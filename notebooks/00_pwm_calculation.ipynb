{
 "cells": [
  {
   "cell_type": "markdown",
   "id": "7ef2886a-5c57-4a5f-befd-0bddca7ad679",
   "metadata": {},
   "source": [
    "## PWM upscale and prescaler calculation"
   ]
  },
  {
   "cell_type": "code",
   "execution_count": null,
   "id": "880edca9-102f-4906-a638-9c9bffb71f57",
   "metadata": {},
   "outputs": [],
   "source": [
    "def pwm_freq(sys_clock: int, prescaler: int, counter_period: int):\n",
    "    return sys_clock/((prescaler + 1) * (counter_period + 1))"
   ]
  },
  {
   "cell_type": "code",
   "execution_count": 9,
   "id": "9ecd1714-da1d-403c-88e6-647905f3b4a4",
   "metadata": {},
   "outputs": [],
   "source": [
    "def counter_period(sys_clock: int, pwm_freq: int, pre_scaler: int):\n",
    "    return sys_clock/((pre_scaler + 1)*(pwm_freq)) - 1"
   ]
  },
  {
   "cell_type": "code",
   "execution_count": 10,
   "id": "27d9a846-06a9-4872-b370-e723eb68d398",
   "metadata": {},
   "outputs": [],
   "source": [
    "def prescaler(sys_clock: int, pwm_freq: int, counter_period: int):\n",
    "    return sys_clock/((counter_period + 1)*(pwm_freq)) - 1"
   ]
  },
  {
   "cell_type": "code",
   "execution_count": 11,
   "id": "417c0652-a068-45ed-bffb-f06283c2f7fc",
   "metadata": {},
   "outputs": [],
   "source": [
    "target_pwm_freq = 1e3"
   ]
  },
  {
   "cell_type": "code",
   "execution_count": 12,
   "id": "df376dfd-dbb1-48f5-b898-64dabe4b07ed",
   "metadata": {},
   "outputs": [],
   "source": [
    "sys_clock = 1.08e6"
   ]
  },
  {
   "cell_type": "code",
   "execution_count": 13,
   "id": "38ead771-af3e-48df-ad38-4e19acdf83c8",
   "metadata": {},
   "outputs": [
    {
     "data": {
      "text/plain": [
       "9.693069306930694"
      ]
     },
     "execution_count": 13,
     "metadata": {},
     "output_type": "execute_result"
    }
   ],
   "source": [
    "counter_period(sys_clock, target_pwm_freq, 100)"
   ]
  },
  {
   "cell_type": "code",
   "execution_count": 40,
   "id": "7301434c-5358-4221-a90b-58eb1759aa67",
   "metadata": {},
   "outputs": [
    {
     "data": {
      "text/plain": [
       "1350.0"
      ]
     },
     "execution_count": 40,
     "metadata": {},
     "output_type": "execute_result"
    }
   ],
   "source": [
    "counter_period = 99\n",
    "pwm_freq(sys_clock, 7, counter_period)"
   ]
  },
  {
   "cell_type": "markdown",
   "id": "9e58dbf0-25e3-4860-a587-f9418a8eed78",
   "metadata": {},
   "source": [
    "## Pulse calculation"
   ]
  },
  {
   "cell_type": "code",
   "execution_count": 41,
   "id": "9d83f488-c1b0-497c-a196-803fb6a0c498",
   "metadata": {},
   "outputs": [],
   "source": [
    "target_duty_cycle = 0.5"
   ]
  },
  {
   "cell_type": "code",
   "execution_count": 43,
   "id": "99ece9c7-6f62-400e-b526-278adcbaf29c",
   "metadata": {},
   "outputs": [
    {
     "data": {
      "text/plain": [
       "50"
      ]
     },
     "execution_count": 43,
     "metadata": {},
     "output_type": "execute_result"
    }
   ],
   "source": [
    "round(counter_period * target_duty_cycle)"
   ]
  },
  {
   "cell_type": "code",
   "execution_count": null,
   "id": "5d1996ca-4190-494a-a9eb-7e0cfb6d1f08",
   "metadata": {},
   "outputs": [],
   "source": []
  }
 ],
 "metadata": {
  "kernelspec": {
   "display_name": "Python 3 (ipykernel)",
   "language": "python",
   "name": "python3"
  },
  "language_info": {
   "codemirror_mode": {
    "name": "ipython",
    "version": 3
   },
   "file_extension": ".py",
   "mimetype": "text/x-python",
   "name": "python",
   "nbconvert_exporter": "python",
   "pygments_lexer": "ipython3",
   "version": "3.11.8"
  }
 },
 "nbformat": 4,
 "nbformat_minor": 5
}
